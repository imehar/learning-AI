{
 "cells": [
  {
   "cell_type": "markdown",
   "metadata": {
    "colab_type": "text",
    "id": "aNyZv-Ec52ot"
   },
   "source": [
    "## **Import Libraries and modules**"
   ]
  },
  {
   "cell_type": "code",
   "execution_count": 0,
   "metadata": {
    "colab": {},
    "colab_type": "code",
    "id": "Eso6UHE080D4"
   },
   "outputs": [],
   "source": [
    "import keras\n",
    "import numpy as np\n",
    "\n",
    "from keras.models import Sequential\n",
    "from keras.layers import Dense, Dropout, Activation, Flatten, Add\n",
    "from keras.layers import Convolution2D, MaxPooling2D\n",
    "from keras.utils import np_utils\n",
    "\n",
    "from keras.datasets import mnist"
   ]
  },
  {
   "cell_type": "markdown",
   "metadata": {
    "colab_type": "text",
    "id": "zByEi95J86RD"
   },
   "source": [
    "### Load pre-shuffled MNIST data into train and test sets"
   ]
  },
  {
   "cell_type": "code",
   "execution_count": 0,
   "metadata": {
    "colab": {},
    "colab_type": "code",
    "id": "7eRM0QWN83PV"
   },
   "outputs": [],
   "source": [
    "(X_train, y_train), (X_test, y_test) = mnist.load_data()"
   ]
  },
  {
   "cell_type": "code",
   "execution_count": 4,
   "metadata": {
    "colab": {
     "base_uri": "https://localhost:8080/",
     "height": 610
    },
    "colab_type": "code",
    "id": "4a4Be72j8-ZC",
    "outputId": "3841db0c-5376-48ad-e583-cab644cfe3c4"
   },
   "outputs": [
    {
     "name": "stdout",
     "output_type": "stream",
     "text": [
      "(60000, 28, 28)\n"
     ]
    },
    {
     "data": {
      "image/png": "[encoded data removed]",
      "text/plain": [
       "<Figure size 720x720 with 9 Axes>"
      ]
     },
     "metadata": {
      "tags": []
     },
     "output_type": "display_data"
    }
   ],
   "source": [
    "print (X_train.shape)\n",
    "from matplotlib import pyplot as plt\n",
    "%matplotlib inline\n",
    "\n",
    "fig = plt.figure(figsize=(10, 10))\n",
    "\n",
    "for i in range(9):\n",
    "    plt.subplot(3, 3, i+1)\n",
    "    plt.imshow(X_train[i].reshape((28,28)))\n",
    "plt.show()"
   ]
  },
  {
   "cell_type": "code",
   "execution_count": 0,
   "metadata": {
    "colab": {},
    "colab_type": "code",
    "id": "dkmprriw9AnZ"
   },
   "outputs": [],
   "source": [
    "X_train = X_train.reshape(X_train.shape[0], 28, 28,1)\n",
    "X_test = X_test.reshape(X_test.shape[0], 28, 28,1)"
   ]
  },
  {
   "cell_type": "code",
   "execution_count": 0,
   "metadata": {
    "colab": {},
    "colab_type": "code",
    "id": "X2m4YS4E9CRh"
   },
   "outputs": [],
   "source": [
    "X_train = X_train.astype('float32')\n",
    "X_test = X_test.astype('float32')\n",
    "X_train /= 255\n",
    "X_test /= 255"
   ]
  },
  {
   "cell_type": "code",
   "execution_count": 7,
   "metadata": {
    "colab": {
     "base_uri": "https://localhost:8080/",
     "height": 34
    },
    "colab_type": "code",
    "id": "0Mn0vAYD9DvB",
    "outputId": "6886af92-9166-4e7f-ff63-f6de3e380460"
   },
   "outputs": [
    {
     "data": {
      "text/plain": [
       "array([5, 0, 4, 1, 9, 2, 1, 3, 1, 4], dtype=uint8)"
      ]
     },
     "execution_count": 7,
     "metadata": {
      "tags": []
     },
     "output_type": "execute_result"
    }
   ],
   "source": [
    "y_train[:10]"
   ]
  },
  {
   "cell_type": "code",
   "execution_count": 0,
   "metadata": {
    "colab": {},
    "colab_type": "code",
    "id": "ZG8JiXR39FHC"
   },
   "outputs": [],
   "source": [
    "# Convert 1-dimensional class arrays to 10-dimensional class matrices\n",
    "Y_train = np_utils.to_categorical(y_train, 10)\n",
    "Y_test = np_utils.to_categorical(y_test, 10)"
   ]
  },
  {
   "cell_type": "code",
   "execution_count": 9,
   "metadata": {
    "colab": {
     "base_uri": "https://localhost:8080/",
     "height": 187
    },
    "colab_type": "code",
    "id": "fYlFRvKS9HMB",
    "outputId": "4b255550-a807-42ad-bc0e-6925fcda8424"
   },
   "outputs": [
    {
     "data": {
      "text/plain": [
       "array([[0., 0., 0., 0., 0., 1., 0., 0., 0., 0.],\n",
       "       [1., 0., 0., 0., 0., 0., 0., 0., 0., 0.],\n",
       "       [0., 0., 0., 0., 1., 0., 0., 0., 0., 0.],\n",
       "       [0., 1., 0., 0., 0., 0., 0., 0., 0., 0.],\n",
       "       [0., 0., 0., 0., 0., 0., 0., 0., 0., 1.],\n",
       "       [0., 0., 1., 0., 0., 0., 0., 0., 0., 0.],\n",
       "       [0., 1., 0., 0., 0., 0., 0., 0., 0., 0.],\n",
       "       [0., 0., 0., 1., 0., 0., 0., 0., 0., 0.],\n",
       "       [0., 1., 0., 0., 0., 0., 0., 0., 0., 0.],\n",
       "       [0., 0., 0., 0., 1., 0., 0., 0., 0., 0.]], dtype=float32)"
      ]
     },
     "execution_count": 9,
     "metadata": {
      "tags": []
     },
     "output_type": "execute_result"
    }
   ],
   "source": [
    "Y_train[:10]"
   ]
  },
  {
   "cell_type": "code",
   "execution_count": 0,
   "metadata": {
    "colab": {},
    "colab_type": "code",
    "id": "osKqT73Q9JJB"
   },
   "outputs": [],
   "source": [
    "from keras.layers import Activation\n",
    "model = Sequential()\n",
    "\n",
    " \n",
    "model.add(Convolution2D(64, (3, 3),activation='relu', input_shape=(28,28,1)))  #26\n",
    "model.add(MaxPooling2D((2,2)))\n",
    "model.add(Convolution2D(64, (3, 3),activation='relu'))\n",
    "model.add(MaxPooling2D((2,2)))\n",
    "model.add(Convolution2D(10, (5, 5)))\n",
    "\n",
    "model.add(Flatten())\n",
    "model.add(Activation('softmax'))"
   ]
  },
  {
   "cell_type": "code",
   "execution_count": 11,
   "metadata": {
    "colab": {
     "base_uri": "https://localhost:8080/",
     "height": 391
    },
    "colab_type": "code",
    "id": "TzdAYg1k9K7Z",
    "outputId": "757ebadc-96cf-4e13-df5b-d8f646cf3c42"
   },
   "outputs": [
    {
     "name": "stdout",
     "output_type": "stream",
     "text": [
      "Model: \"sequential_1\"\n",
      "_________________________________________________________________\n",
      "Layer (type)                 Output Shape              Param #   \n",
      "=================================================================\n",
      "conv2d_1 (Conv2D)            (None, 26, 26, 64)        640       \n",
      "_________________________________________________________________\n",
      "max_pooling2d_1 (MaxPooling2 (None, 13, 13, 64)        0         \n",
      "_________________________________________________________________\n",
      "conv2d_2 (Conv2D)            (None, 11, 11, 64)        36928     \n",
      "_________________________________________________________________\n",
      "max_pooling2d_2 (MaxPooling2 (None, 5, 5, 64)          0         \n",
      "_________________________________________________________________\n",
      "conv2d_3 (Conv2D)            (None, 1, 1, 10)          16010     \n",
      "_________________________________________________________________\n",
      "flatten_1 (Flatten)          (None, 10)                0         \n",
      "_________________________________________________________________\n",
      "activation_1 (Activation)    (None, 10)                0         \n",
      "=================================================================\n",
      "Total params: 53,578\n",
      "Trainable params: 53,578\n",
      "Non-trainable params: 0\n",
      "_________________________________________________________________\n"
     ]
    }
   ],
   "source": [
    "model.summary()"
   ]
  },
  {
   "cell_type": "code",
   "execution_count": 0,
   "metadata": {
    "colab": {},
    "colab_type": "code",
    "id": "Zp6SuGrL9M3h"
   },
   "outputs": [],
   "source": [
    "model.compile(loss='categorical_crossentropy',\n",
    "             optimizer='adam',\n",
    "             metrics=['accuracy'])"
   ]
  },
  {
   "cell_type": "code",
   "execution_count": 16,
   "metadata": {
    "colab": {
     "base_uri": "https://localhost:8080/",
     "height": 544
    },
    "colab_type": "code",
    "id": "4xWoKhPY9Of5",
    "outputId": "6c2358f3-d75b-415c-bb64-2d439769d9d7"
   },
   "outputs": [
    {
     "name": "stdout",
     "output_type": "stream",
     "text": [
      "Epoch 1/15\n",
      "60000/60000 [==============================] - 7s 113us/step - loss: 0.2480 - acc: 0.9281\n",
      "Epoch 2/15\n",
      "60000/60000 [==============================] - 6s 102us/step - loss: 0.0635 - acc: 0.9803\n",
      "Epoch 3/15\n",
      "60000/60000 [==============================] - 6s 101us/step - loss: 0.0467 - acc: 0.9856\n",
      "Epoch 4/15\n",
      "60000/60000 [==============================] - 6s 99us/step - loss: 0.0381 - acc: 0.9886\n",
      "Epoch 5/15\n",
      "60000/60000 [==============================] - 6s 97us/step - loss: 0.0304 - acc: 0.9904\n",
      "Epoch 6/15\n",
      "60000/60000 [==============================] - 6s 99us/step - loss: 0.0271 - acc: 0.9913\n",
      "Epoch 7/15\n",
      "60000/60000 [==============================] - 6s 98us/step - loss: 0.0230 - acc: 0.9928\n",
      "Epoch 8/15\n",
      "60000/60000 [==============================] - 6s 97us/step - loss: 0.0192 - acc: 0.9940\n",
      "Epoch 9/15\n",
      "60000/60000 [==============================] - 6s 98us/step - loss: 0.0165 - acc: 0.9947\n",
      "Epoch 10/15\n",
      "60000/60000 [==============================] - 6s 99us/step - loss: 0.0141 - acc: 0.9957\n",
      "Epoch 11/15\n",
      "60000/60000 [==============================] - 6s 96us/step - loss: 0.0117 - acc: 0.9963\n",
      "Epoch 12/15\n",
      "60000/60000 [==============================] - 6s 96us/step - loss: 0.0101 - acc: 0.9966\n",
      "Epoch 13/15\n",
      "60000/60000 [==============================] - 6s 99us/step - loss: 0.0080 - acc: 0.9977\n",
      "Epoch 14/15\n",
      "60000/60000 [==============================] - 6s 97us/step - loss: 0.0078 - acc: 0.9975\n",
      "Epoch 15/15\n",
      "60000/60000 [==============================] - 6s 96us/step - loss: 0.0078 - acc: 0.9971\n"
     ]
    },
    {
     "data": {
      "text/plain": [
       "<keras.callbacks.History at 0x7ffafd97cac8>"
      ]
     },
     "execution_count": 16,
     "metadata": {
      "tags": []
     },
     "output_type": "execute_result"
    }
   ],
   "source": [
    "model.fit(X_train, Y_train, batch_size=128, epochs=15, verbose=1)"
   ]
  },
  {
   "cell_type": "code",
   "execution_count": 0,
   "metadata": {
    "colab": {},
    "colab_type": "code",
    "id": "AtsH-lLk-eLb"
   },
   "outputs": [],
   "source": [
    "score = model.evaluate(X_test, Y_test, verbose=0)"
   ]
  },
  {
   "cell_type": "code",
   "execution_count": 18,
   "metadata": {
    "colab": {
     "base_uri": "https://localhost:8080/",
     "height": 34
    },
    "colab_type": "code",
    "id": "mkX8JMv79q9r",
    "outputId": "2ef9f62f-d4d9-4509-a5db-fa7e2a84e3e1"
   },
   "outputs": [
    {
     "name": "stdout",
     "output_type": "stream",
     "text": [
      "[0.03138630627401908, 0.991]\n"
     ]
    }
   ],
   "source": [
    "print(score)"
   ]
  },
  {
   "cell_type": "code",
   "execution_count": 0,
   "metadata": {
    "colab": {},
    "colab_type": "code",
    "id": "OCWoJkwE9suh"
   },
   "outputs": [],
   "source": [
    "y_pred = model.predict(X_test)"
   ]
  },
  {
   "cell_type": "code",
   "execution_count": 20,
   "metadata": {
    "colab": {
     "base_uri": "https://localhost:8080/",
     "height": 340
    },
    "colab_type": "code",
    "id": "Ym7iCFBm9uBs",
    "outputId": "cce3cabc-7382-4c04-c310-04efd1c0d950"
   },
   "outputs": [
    {
     "name": "stdout",
     "output_type": "stream",
     "text": [
      "[[1.7677599e-12 1.0361406e-16 1.9607894e-08 1.2088572e-09 3.8105539e-18\n",
      "  7.0958891e-13 4.8480630e-22 1.0000000e+00 8.7930965e-12 8.6268481e-10]\n",
      " [3.0442676e-11 1.9950681e-10 1.0000000e+00 5.6852110e-17 3.7863310e-16\n",
      "  9.3023165e-21 3.7824160e-10 3.6902211e-16 2.3258638e-11 3.6384798e-13]\n",
      " [5.9545768e-10 9.9999511e-01 7.3197519e-08 7.1045558e-11 1.4180274e-06\n",
      "  3.8074801e-09 1.1129347e-09 2.8287789e-06 4.4041147e-07 4.0044259e-08]\n",
      " [9.9999845e-01 3.7445637e-19 4.4473021e-09 6.8755604e-15 8.7973852e-14\n",
      "  7.4403325e-13 1.5889719e-06 9.0573712e-12 1.2660699e-09 2.4697636e-10]\n",
      " [1.3766552e-14 4.7387485e-14 7.1060697e-14 2.1622070e-15 9.9999988e-01\n",
      "  2.0798870e-14 1.1194182e-13 1.3381065e-12 1.7834248e-10 9.7037464e-08]\n",
      " [1.0398370e-09 9.9999464e-01 7.1576056e-09 1.8625177e-12 8.5699310e-07\n",
      "  2.1125239e-11 3.4775480e-10 4.3117830e-06 2.0295087e-07 3.0746467e-08]\n",
      " [6.6795451e-18 1.3098924e-11 4.9583026e-13 2.6101979e-16 9.9998450e-01\n",
      "  4.9478404e-11 1.0472423e-17 3.2718294e-13 1.5346024e-05 9.1572659e-08]\n",
      " [5.5112166e-18 2.6177331e-11 7.0333223e-10 2.0980369e-09 1.3590280e-08\n",
      "  1.0657559e-11 4.9679839e-18 2.5153267e-12 2.4349495e-07 9.9999976e-01]\n",
      " [3.9551896e-08 1.3256387e-16 3.5092283e-11 7.9418425e-12 7.2475954e-14\n",
      "  1.4672667e-01 8.5070854e-01 2.4721631e-13 2.5644216e-03 3.8489989e-07]]\n",
      "[7 2 1 0 4 1 4 9 5]\n"
     ]
    }
   ],
   "source": [
    "print(y_pred[:9])\n",
    "print(y_test[:9])"
   ]
  },
  {
   "cell_type": "code",
   "execution_count": 0,
   "metadata": {
    "colab": {},
    "colab_type": "code",
    "id": "NqKxXa-MNnYU"
   },
   "outputs": [],
   "source": []
  }
 ],
 "metadata": {
  "accelerator": "GPU",
  "colab": {
   "collapsed_sections": [],
   "name": "1st DNN.ipynb",
   "provenance": []
  },
  "kernelspec": {
   "display_name": "Python 3",
   "language": "python",
   "name": "python3"
  },
  "language_info": {
   "codemirror_mode": {
    "name": "ipython",
    "version": 3
   },
   "file_extension": ".py",
   "mimetype": "text/x-python",
   "name": "python",
   "nbconvert_exporter": "python",
   "pygments_lexer": "ipython3",
   "version": "3.6.8"
  }
 },
 "nbformat": 4,
 "nbformat_minor": 1
}
